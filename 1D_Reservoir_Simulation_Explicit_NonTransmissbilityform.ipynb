{
  "nbformat": 4,
  "nbformat_minor": 0,
  "metadata": {
    "colab": {
      "name": "1D_Reservoir_Simulation_Explicit_NonTransmissbilityform",
      "provenance": [],
      "collapsed_sections": [],
      "include_colab_link": true
    },
    "kernelspec": {
      "display_name": "Python 3",
      "name": "python3"
    }
  },
  "cells": [
    {
      "cell_type": "markdown",
      "metadata": {
        "id": "view-in-github",
        "colab_type": "text"
      },
      "source": [
        "<a href=\"https://colab.research.google.com/github/IrfhanAhmedh/Reservoir-Simulator-1D-2D-/blob/main/1D_Reservoir_Simulation_Explicit_NonTransmissbilityform.ipynb\" target=\"_parent\"><img src=\"https://colab.research.google.com/assets/colab-badge.svg\" alt=\"Open In Colab\"/></a>"
      ]
    },
    {
      "cell_type": "markdown",
      "metadata": {
        "id": "yCJNJwEYv4jz"
      },
      "source": [
        "Solving 1D homogenous Reservoir using explicit method and without using Transmissiblity form"
      ]
    },
    {
      "cell_type": "code",
      "metadata": {
        "id": "-Bih2rjw_kUZ"
      },
      "source": [
        "import numpy as np\n",
        "pie=0.2\n",
        "l=10000\n",
        "k=20\n",
        "ct=10**(-6)\n",
        "mu=1\n",
        "number_of_grids=10\n",
        "dt=1\n",
        "pb=2000\n",
        "dx=l/number_of_grids\n",
        "alpha=0.006328*k/(pie*mu*ct)\n",
        "eeta=alpha*dt/(dx*dx)"
      ],
      "execution_count": null,
      "outputs": []
    },
    {
      "cell_type": "code",
      "metadata": {
        "id": "euVGzorTtUst",
        "colab": {
          "base_uri": "https://localhost:8080/"
        },
        "outputId": "1bf1ced4-e476-47ed-874b-d5b8cd069b08"
      },
      "source": [
        "print(eeta)"
      ],
      "execution_count": null,
      "outputs": [
        {
          "output_type": "stream",
          "text": [
            "0.6328\n"
          ],
          "name": "stdout"
        }
      ]
    },
    {
      "cell_type": "code",
      "metadata": {
        "id": "9nL3oSsKqkV0"
      },
      "source": [
        "#initial conditon\n",
        "pi=np.arange(10)*0+1100\n",
        "pi=pi.reshape(10,1)\n"
      ],
      "execution_count": null,
      "outputs": []
    },
    {
      "cell_type": "code",
      "metadata": {
        "id": "sqVKBM6KrTSw"
      },
      "source": [
        "arr=np.arange(100).reshape(10,10)*0    #intialising an array (left hand side)\n",
        "arr=arr.astype(float)"
      ],
      "execution_count": null,
      "outputs": []
    },
    {
      "cell_type": "code",
      "metadata": {
        "id": "OUKKtHtgrrTc"
      },
      "source": [
        "# Boundary condition\n",
        "arr[0][0]=1+3*eeta     #left side dirchlet\n",
        "arr[9][9]=1+eeta       #right side newman\n"
      ],
      "execution_count": null,
      "outputs": []
    },
    {
      "cell_type": "code",
      "metadata": {
        "id": "KZ0FZ_8Nrhnb"
      },
      "source": [
        "for i in range(1,10):       #Assigning values for left side of equation\n",
        " arr[i][i]=1+2*eeta\n",
        "for i in range(9):        \n",
        " arr[i][i+1]=-eeta\n",
        " arr[i+1][i]=-eeta"
      ],
      "execution_count": null,
      "outputs": []
    },
    {
      "cell_type": "code",
      "metadata": {
        "id": "M0i-cRG4rOzl"
      },
      "source": [
        "q=np.arange(10)*0\n",
        "q=q.reshape(10,1)\n",
        "q=q.astype(float)\n",
        "q[0][0]=2*eeta*pb"
      ],
      "execution_count": null,
      "outputs": []
    },
    {
      "cell_type": "code",
      "metadata": {
        "id": "fFDxX1fKulBN",
        "colab": {
          "base_uri": "https://localhost:8080/"
        },
        "outputId": "bb858ec1-0d9d-4fa1-a2c1-c71f7fd504be"
      },
      "source": [
        "print(q)"
      ],
      "execution_count": null,
      "outputs": [
        {
          "output_type": "stream",
          "text": [
            "[[2531.2]\n",
            " [   0. ]\n",
            " [   0. ]\n",
            " [   0. ]\n",
            " [   0. ]\n",
            " [   0. ]\n",
            " [   0. ]\n",
            " [   0. ]\n",
            " [   0. ]\n",
            " [   0. ]]\n"
          ],
          "name": "stdout"
        }
      ]
    },
    {
      "cell_type": "code",
      "metadata": {
        "id": "FPMQjpHhur6H",
        "colab": {
          "base_uri": "https://localhost:8080/"
        },
        "outputId": "767edf22-ae98-469d-fb51-6981d637f936"
      },
      "source": [
        "for i in range(1,4): # for 3 days only Note:Range can be increased to increase time\n",
        " b=pi+q   # Right hand side of the equation\n",
        " pn1=np.linalg.solve(arr,b)\n",
        " print('at time = ',i)\n",
        " print(pn1)\n",
        " pi=pn1\n"
      ],
      "execution_count": null,
      "outputs": [
        {
          "output_type": "stream",
          "text": [
            "at time =  1\n",
            "[[1521.05434903]\n",
            " [1228.54602595]\n",
            " [1139.17617624]\n",
            " [1111.71558102]\n",
            " [1102.76886226]\n",
            " [1098.19771595]\n",
            " [1090.77845959]\n",
            " [1068.7866046 ]\n",
            " [ 997.46890354]\n",
            " [ 764.12355321]]\n",
            "at time =  2\n",
            "[[1692.68157678]\n",
            " [1349.26348471]\n",
            " [1196.61255249]\n",
            " [1134.72706946]\n",
            " [1109.20613832]\n",
            " [1093.85789377]\n",
            " [1071.65152314]\n",
            " [1019.21927317]\n",
            " [ 888.45685342]\n",
            " [ 585.42507506]]\n",
            "at time =  3\n",
            "[[1771.9753753 ]\n",
            " [1441.23238146]\n",
            " [1255.82582371]\n",
            " [1163.99270341]\n",
            " [1118.40742438]\n",
            " [1087.36273645]\n",
            " [1046.05389346]\n",
            " [ 964.29367614]\n",
            " [ 795.73573911]\n",
            " [ 480.65265306]]\n"
          ],
          "name": "stdout"
        }
      ]
    }
  ]
}