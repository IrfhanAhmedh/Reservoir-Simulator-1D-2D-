{
  "cells": [
    {
      "cell_type": "markdown",
      "metadata": {
        "id": "view-in-github",
        "colab_type": "text"
      },
      "source": [
        "<a href=\"https://colab.research.google.com/github/IrfhanAhmedh/Reservoir-Simulator-1D-2D-/blob/main/2D_With_color_map.ipynb\" target=\"_parent\"><img src=\"https://colab.research.google.com/assets/colab-badge.svg\" alt=\"Open In Colab\"/></a>"
      ]
    },
    {
      "cell_type": "code",
      "source": [
        "T=10e3   #Transmissibility\n",
        "nx=3\n",
        "ny=3\n",
        "dt=0.01\n",
        "n=nx*ny"
      ],
      "metadata": {
        "id": "0rDhZlNZ5B8t"
      },
      "execution_count": null,
      "outputs": []
    },
    {
      "cell_type": "code",
      "source": [
        "import numpy as np\n",
        "import matplotlib.pyplot as plt\n",
        "t=np.arange(9*9).reshape(9,9)*0\n",
        "q=np.arange(9).reshape(9,1)*0\n",
        "pi=np.arange(9*9).reshape(9,9)*0\n",
        "p_initial=np.arange(9).reshape(9,1)*0+1000\n",
        "b=np.arange(9*9).reshape(9,9)*0\n",
        "for i in range(0,9):\n",
        " b[i][i]=1\n",
        "print(b)"
      ],
      "metadata": {
        "id": "uJpwz3pe5GA3",
        "outputId": "729a42df-6c6b-40cd-faf2-708f6b7efd2d",
        "colab": {
          "base_uri": "https://localhost:8080/"
        }
      },
      "execution_count": null,
      "outputs": [
        {
          "output_type": "stream",
          "name": "stdout",
          "text": [
            "[[1 0 0 0 0 0 0 0 0]\n",
            " [0 1 0 0 0 0 0 0 0]\n",
            " [0 0 1 0 0 0 0 0 0]\n",
            " [0 0 0 1 0 0 0 0 0]\n",
            " [0 0 0 0 1 0 0 0 0]\n",
            " [0 0 0 0 0 1 0 0 0]\n",
            " [0 0 0 0 0 0 1 0 0]\n",
            " [0 0 0 0 0 0 0 1 0]\n",
            " [0 0 0 0 0 0 0 0 1]]\n"
          ]
        }
      ]
    },
    {
      "cell_type": "code",
      "source": [
        "for i in range(0,n):\n",
        " if (i==0 or (i/nx)==nx-1): #Top left corner and bottom left corner with neuman boundary\n",
        "  t[i][i]=2*T\n",
        "  t[i][i+1]=-T\n",
        " elif ((i>0 and i<nx-1) or (i>n-nx and i<n-1)): #Top boundary and bottom boundary with neuman boundary\n",
        "  t[i][i]=3*T\n",
        "  t[i][i+1]=-T\n",
        "  t[i][i-1]=-T\n",
        " elif (i==nx-1 or i==n-1): #Top right corner and bottom right corner with dirchlet boundary\n",
        "  t[i][i]=4*T\n",
        "  t[i][i-1]=-T\n",
        "  q[i]=2*T*1200*6.33e-03\n",
        " elif (i>=nx and i%nx==0 and i<n-nx): # Remaining left side grids with neuman boundary\n",
        "  t[i][i]=3*T\n",
        "  t[i][i+1]=-T\n",
        " elif ((i%nx)==nx-1 and i>nx and i<n-1): #Remaining right side grids with dirchlet boundary\n",
        "  t[i][i]=5*T\n",
        "  t[i][i-1]=-T\n",
        "  q[i]=2*T*1200*6.33e-03\n",
        " else:\n",
        "  t[i][i]=4*T\n",
        "  t[i][i+1]=-T\n",
        "  t[i][i-1]=-T\n",
        "for i in range(2*nx):\n",
        " t[i][i+nx]=-T\n",
        " t[i+nx][i]=-T"
      ],
      "metadata": {
        "id": "2EfGMw_g5Kmd"
      },
      "execution_count": null,
      "outputs": []
    },
    {
      "cell_type": "code",
      "source": [
        "t=t*6.33e-03\n",
        "print(t)"
      ],
      "metadata": {
        "id": "LEAxNPQM5RsS",
        "outputId": "60b6014c-afb7-467a-8cab-50032576e3e1",
        "colab": {
          "base_uri": "https://localhost:8080/"
        }
      },
      "execution_count": null,
      "outputs": [
        {
          "output_type": "stream",
          "name": "stdout",
          "text": [
            "[[126.6 -63.3   0.  -63.3   0.    0.    0.    0.    0. ]\n",
            " [-63.3 189.9 -63.3   0.  -63.3   0.    0.    0.    0. ]\n",
            " [  0.  -63.3 253.2   0.    0.  -63.3   0.    0.    0. ]\n",
            " [-63.3   0.    0.  189.9 -63.3   0.  -63.3   0.    0. ]\n",
            " [  0.  -63.3   0.  -63.3 253.2 -63.3   0.  -63.3   0. ]\n",
            " [  0.    0.  -63.3   0.  -63.3 316.5   0.    0.  -63.3]\n",
            " [  0.    0.    0.  -63.3   0.    0.  126.6 -63.3   0. ]\n",
            " [  0.    0.    0.    0.  -63.3   0.  -63.3 189.9 -63.3]\n",
            " [  0.    0.    0.    0.    0.  -63.3   0.  -63.3 253.2]]\n"
          ]
        }
      ]
    },
    {
      "cell_type": "code",
      "source": [
        "for i in range(0,2):\n",
        " a=int (input('Select the Type of well press 1 for constant rate well press 2 for constant BHP well: '))\n",
        " if (a==1):\n",
        "  m=int (input('In which gird do you want drill: '))\n",
        "  l=int (input('Rate of well: '))\n",
        "  q[m-1]=-l\n",
        " if (a==2):\n",
        "  m=int (input('In which gird do you want drill: '))\n",
        "  p=int (input('well flowing pressure: '))\n",
        "  ji=float (input('enter productivity index '))\n",
        "  q[m-1]=q[m-1]+ji*p\n",
        "  pi[m-1][m-1]=pi[i][i]+ji"
      ],
      "metadata": {
        "id": "xtwYe-R85Vzw",
        "outputId": "2ea590c2-a004-47e2-a15b-cfac73b789de",
        "colab": {
          "base_uri": "https://localhost:8080/"
        }
      },
      "execution_count": null,
      "outputs": [
        {
          "name": "stdout",
          "output_type": "stream",
          "text": [
            "Select the Type of well press 1 for constant rate well press 2 for constant BHP well: 1\n",
            "In which gird do you want drill: 5\n",
            "Rate of well: 1000\n",
            "Select the Type of well press 1 for constant rate well press 2 for constant BHP well: 2\n",
            "In which gird do you want drill: 9\n",
            "well flowing pressure: 1500\n",
            "enter productivity index 135.3\n"
          ]
        }
      ]
    },
    {
      "cell_type": "code",
      "source": [
        "x=np.arange(9).reshape(9,1)*0\n",
        "print(x)"
      ],
      "metadata": {
        "id": "_mgtflZ15b4V",
        "outputId": "d7263589-faca-454c-c90d-d6eef50af702",
        "colab": {
          "base_uri": "https://localhost:8080/"
        }
      },
      "execution_count": null,
      "outputs": [
        {
          "output_type": "stream",
          "name": "stdout",
          "text": [
            "[[0]\n",
            " [0]\n",
            " [0]\n",
            " [0]\n",
            " [0]\n",
            " [0]\n",
            " [0]\n",
            " [0]\n",
            " [0]]\n"
          ]
        }
      ]
    },
    {
      "cell_type": "code",
      "source": [
        "print(b)"
      ],
      "metadata": {
        "id": "L7kLl3FZ5gQ1",
        "outputId": "9e47fa27-74ef-461f-9677-91cd1fa53922",
        "colab": {
          "base_uri": "https://localhost:8080/"
        }
      },
      "execution_count": null,
      "outputs": [
        {
          "output_type": "stream",
          "name": "stdout",
          "text": [
            "[[1 0 0 0 0 0 0 0 0]\n",
            " [0 1 0 0 0 0 0 0 0]\n",
            " [0 0 1 0 0 0 0 0 0]\n",
            " [0 0 0 1 0 0 0 0 0]\n",
            " [0 0 0 0 1 0 0 0 0]\n",
            " [0 0 0 0 0 1 0 0 0]\n",
            " [0 0 0 0 0 0 1 0 0]\n",
            " [0 0 0 0 0 0 0 1 0]\n",
            " [0 0 0 0 0 0 0 0 1]]\n"
          ]
        }
      ]
    },
    {
      "cell_type": "code",
      "source": [
        "def jacobi(A,c,x,N):\n",
        " x=x.astype(float)\n",
        " for i in range(N):\n",
        "  D=np.diag(np.diag(A))\n",
        "  R=A-D\n",
        "  k=np.dot(R,x)\n",
        "  num=c-k\n",
        "  den=D\n",
        "  x=np.linalg.inv(den)@num\n",
        " return x"
      ],
      "metadata": {
        "id": "Cdx0oLmP5iB3"
      },
      "execution_count": null,
      "outputs": []
    },
    {
      "cell_type": "code",
      "source": [
        "for i in range (10):\n",
        " A=((b/dt)+t+pi)\n",
        " c=((b/dt)@p_initial)+q\n",
        " p_next=jacobi(A,c,x,10000)\n",
        " p_initial=p_next\n",
        " print('At time = ',i+1,p_next)\n",
        " print('PRESSURE_MAP')\n",
        " plt.imshow(p_next.reshape(3,3), cmap='Reds',vmin=1000,vmax=1350)\n",
        " plt.show()\n"
      ],
      "metadata": {
        "id": "2zQygDn75l36",
        "outputId": "8c3113ac-5ac0-4a47-c41c-7a5eac34a391",
        "colab": {
          "base_uri": "https://localhost:8080/",
          "height": 1000
        }
      },
      "execution_count": null,
      "outputs": [
        {
          "output_type": "stream",
          "name": "stdout",
          "text": [
            "At time =  1 [[1013.34760153]\n",
            " [1032.2964387 ]\n",
            " [1097.85010482]\n",
            " [1015.4850227 ]\n",
            " [1036.71283993]\n",
            " [1113.68550476]\n",
            " [1020.8575377 ]\n",
            " [1059.18034921]\n",
            " [1213.46253289]]\n",
            "PRESSURE_MAP\n"
          ]
        },
        {
          "output_type": "display_data",
          "data": {
            "image/png": "[encoded data removed]",
            "text/plain": [
              "<Figure size 432x288 with 1 Axes>"
            ]
          },
          "metadata": {
            "needs_background": "light"
          }
        },
        {
          "output_type": "stream",
          "name": "stdout",
          "text": [
            "At time =  2 [[1035.55599444]\n",
            " [1065.81456774]\n",
            " [1140.16728131]\n",
            " [1040.38177011]\n",
            " [1074.67165819]\n",
            " [1161.70633712]\n",
            " [1050.24901223]\n",
            " [1106.54828363]\n",
            " [1269.55504052]]\n",
            "PRESSURE_MAP\n"
          ]
        },
        {
          "output_type": "display_data",
          "data": {
            "image/png": "[encoded data removed]",
            "text/plain": [
              "<Figure size 432x288 with 1 Axes>"
            ]
          },
          "metadata": {
            "needs_background": "light"
          }
        },
        {
          "output_type": "stream",
          "name": "stdout",
          "text": [
            "At time =  3 [[1060.95804901]\n",
            " [1094.24551925]\n",
            " [1161.23307205]\n",
            " [1067.80020685]\n",
            " [1105.46005202]\n",
            " [1183.96605924]\n",
            " [1080.29758544]\n",
            " [1140.26506388]\n",
            " [1288.30260988]]\n",
            "PRESSURE_MAP\n"
          ]
        },
        {
          "output_type": "display_data",
          "data": {
            "image/png": "[encoded data removed]",
            "text/plain": [
              "<Figure size 432x288 with 1 Axes>"
            ]
          },
          "metadata": {
            "needs_background": "light"
          }
        },
        {
          "output_type": "stream",
          "name": "stdout",
          "text": [
            "At time =  4 [[1085.98739679]\n",
            " [1117.49596394]\n",
            " [1173.55264503]\n",
            " [1094.01966341]\n",
            " [1129.67841032]\n",
            " [1196.17681675]\n",
            " [1107.81412555]\n",
            " [1165.07863525]\n",
            " [1296.94332466]]\n",
            "PRESSURE_MAP\n"
          ]
        },
        {
          "output_type": "display_data",
          "data": {
            "image/png": "[encoded data removed]",
            "text/plain": [
              "<Figure size 432x288 with 1 Axes>"
            ]
          },
          "metadata": {
            "needs_background": "light"
          }
        },
        {
          "output_type": "stream",
          "name": "stdout",
          "text": [
            "At time =  5 [[1108.93858341]\n",
            " [1136.57381066]\n",
            " [1181.88346402]\n",
            " [1117.56115492]\n",
            " [1149.03816295]\n",
            " [1204.12089693]\n",
            " [1131.89706834]\n",
            " [1184.27870498]\n",
            " [1302.23274737]]\n",
            "PRESSURE_MAP\n"
          ]
        },
        {
          "output_type": "display_data",
          "data": {
            "image/png": "[encoded data removed]",
            "text/plain": [
              "<Figure size 432x288 with 1 Axes>"
            ]
          },
          "metadata": {
            "needs_background": "light"
          }
        },
        {
          "output_type": "stream",
          "name": "stdout",
          "text": [
            "At time =  6 [[1129.21694484]\n",
            " [1152.39615023]\n",
            " [1188.12471446]\n",
            " [1138.07306556]\n",
            " [1164.84258852]\n",
            " [1209.9625029 ]\n",
            " [1152.56394555]\n",
            " [1199.70392064]\n",
            " [1306.073657  ]]\n",
            "PRESSURE_MAP\n"
          ]
        },
        {
          "output_type": "display_data",
          "data": {
            "image/png": "[encoded data removed]",
            "text/plain": [
              "<Figure size 432x288 with 1 Axes>"
            ]
          },
          "metadata": {
            "needs_background": "light"
          }
        },
        {
          "output_type": "stream",
          "name": "stdout",
          "text": [
            "At time =  7 [[1146.78384412]\n",
            " [1165.63497639]\n",
            " [1193.09041249]\n",
            " [1155.68452747]\n",
            " [1177.94508985]\n",
            " [1214.57137822]\n",
            " [1170.14686316]\n",
            " [1212.38631987]\n",
            " [1309.10239244]]\n",
            "PRESSURE_MAP\n"
          ]
        },
        {
          "output_type": "display_data",
          "data": {
            "image/png": "[encoded data removed]",
            "text/plain": [
              "<Figure size 432x288 with 1 Axes>"
            ]
          },
          "metadata": {
            "needs_background": "light"
          }
        },
        {
          "output_type": "stream",
          "name": "stdout",
          "text": [
            "At time =  8 [[1161.84132114]\n",
            " [1176.77416827]\n",
            " [1197.16826098]\n",
            " [1170.69595744]\n",
            " [1188.91038223]\n",
            " [1218.34097434]\n",
            " [1185.05090824]\n",
            " [1222.95095394]\n",
            " [1311.58135662]]\n",
            "PRESSURE_MAP\n"
          ]
        },
        {
          "output_type": "display_data",
          "data": {
            "image/png": "[encoded data removed]",
            "text/plain": [
              "<Figure size 432x288 with 1 Axes>"
            ]
          },
          "metadata": {
            "needs_background": "light"
          }
        },
        {
          "output_type": "stream",
          "name": "stdout",
          "text": [
            "At time =  9 [[1174.67395271]\n",
            " [1186.17574572]\n",
            " [1200.57009505]\n",
            " [1183.4448794 ]\n",
            " [1198.13560245]\n",
            " [1221.47877993]\n",
            " [1197.66556007]\n",
            " [1231.81460068]\n",
            " [1313.645241  ]]\n",
            "PRESSURE_MAP\n"
          ]
        },
        {
          "output_type": "display_data",
          "data": {
            "image/png": "[encoded data removed]",
            "text/plain": [
              "<Figure size 432x288 with 1 Axes>"
            ]
          },
          "metadata": {
            "needs_background": "light"
          }
        },
        {
          "output_type": "stream",
          "name": "stdout",
          "text": [
            "At time =  10 [[1185.57630198]\n",
            " [1194.12318793]\n",
            " [1203.42965767]\n",
            " [1194.25271659]\n",
            " [1205.91880512]\n",
            " [1224.11291924]\n",
            " [1208.33703508]\n",
            " [1239.27992386]\n",
            " [1315.37749092]]\n",
            "PRESSURE_MAP\n"
          ]
        },
        {
          "output_type": "display_data",
          "data": {
            "image/png": "[encoded data removed]",
            "text/plain": [
              "<Figure size 432x288 with 1 Axes>"
            ]
          },
          "metadata": {
            "needs_background": "light"
          }
        }
      ]
    }
  ],
  "metadata": {
    "colab": {
      "collapsed_sections": [],
      "name": "2D_With_color_map",
      "provenance": [],
      "include_colab_link": true
    },
    "kernelspec": {
      "display_name": "Python 3",
      "name": "python3"
    }
  },
  "nbformat": 4,
  "nbformat_minor": 0
}